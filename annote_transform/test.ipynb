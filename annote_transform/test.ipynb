{
 "cells": [
  {
   "cell_type": "code",
   "execution_count": 23,
   "metadata": {
    "collapsed": true,
    "pycharm": {
     "name": "#%%\n"
    }
   },
   "outputs": [
    {
     "data": {
      "text/plain": "0"
     },
     "execution_count": 23,
     "metadata": {},
     "output_type": "execute_result"
    }
   ],
   "source": [
    "## comera_axis\n",
    "import os\n",
    "import sys\n",
    "# sys.path.append(r'../annote_transform/')\n",
    "file = 'data4'\n",
    "os.system('python annote_comera_axis.py --file {}'.format(file))\n",
    "os.system('python consistency_and_rename.py --file {}'.format(file))\n"
   ]
  },
  {
   "cell_type": "code",
   "execution_count": 4,
   "outputs": [
    {
     "data": {
      "text/plain": "0"
     },
     "execution_count": 4,
     "metadata": {},
     "output_type": "execute_result"
    }
   ],
   "source": [
    "## lidar_axis\n",
    "import os\n",
    "import sys\n",
    "# sys.path.append(r'../annote_transform/')\n",
    "file = 'data4'\n",
    "os.system('python annote.py --file {}'.format(file))\n",
    "os.system('python consistency_and_rename.py --file {}'.format(file))\n"
   ],
   "metadata": {
    "collapsed": false,
    "pycharm": {
     "name": "#%%\n"
    }
   }
  },
  {
   "cell_type": "code",
   "execution_count": 40,
   "outputs": [
    {
     "name": "stdout",
     "output_type": "stream",
     "text": [
      "zhihu finished !!!\n",
      "rename finished !!!\n"
     ]
    }
   ],
   "source": [
    "## comera_axis\n",
    "import os\n",
    "import sys\n",
    "# sys.path.append(r'../annote_transform/')\n",
    "\n",
    "file = 'data4.yaml'\n",
    "os.system('python annotate_zhihu.py --file {}'.format(file))\n",
    "print('zhihu finished !!!')\n",
    "os.system('python consistency_and_rename.py --file {}'.format(file[:-5]))\n",
    "print('rename finished !!!')"
   ],
   "metadata": {
    "collapsed": false,
    "pycharm": {
     "name": "#%%\n"
    }
   }
  },
  {
   "cell_type": "code",
   "execution_count": 19,
   "outputs": [
    {
     "name": "stdout",
     "output_type": "stream",
     "text": [
      "1\n",
      "2\n",
      "3\n",
      "4\n",
      "5\n",
      "6\n"
     ]
    }
   ],
   "source": [
    "import numpy as np\n",
    "a= iter([1,2,3,4,5,6])\n",
    "import random\n",
    "# random.shuffle(a)\n",
    "for i in a:\n",
    "    print(i)\n",
    "\n"
   ],
   "metadata": {
    "collapsed": false,
    "pycharm": {
     "name": "#%%\n"
    }
   }
  }
 ],
 "metadata": {
  "kernelspec": {
   "display_name": "Python 3",
   "language": "python",
   "name": "python3"
  },
  "language_info": {
   "codemirror_mode": {
    "name": "ipython",
    "version": 2
   },
   "file_extension": ".py",
   "mimetype": "text/x-python",
   "name": "python",
   "nbconvert_exporter": "python",
   "pygments_lexer": "ipython2",
   "version": "2.7.6"
  }
 },
 "nbformat": 4,
 "nbformat_minor": 0
}